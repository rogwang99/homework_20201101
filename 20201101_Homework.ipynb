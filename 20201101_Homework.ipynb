{
 "cells": [
  {
   "cell_type": "markdown",
   "metadata": {},
   "source": [
    "### Homework 2020/11/01, Roger Wang\n",
    "\n",
    "# Mission 1\n",
    "請至環保署空品網下載個人所在地區2019 年逐時資料\n",
    "挑選其最近的觀測站讀入 列出 監測記錄總天數 與 測項總項數"
   ]
  },
  {
   "cell_type": "code",
   "execution_count": 1,
   "metadata": {
    "scrolled": false
   },
   "outputs": [
    {
     "data": {
      "text/html": [
       "<div>\n",
       "<style scoped>\n",
       "    .dataframe tbody tr th:only-of-type {\n",
       "        vertical-align: middle;\n",
       "    }\n",
       "\n",
       "    .dataframe tbody tr th {\n",
       "        vertical-align: top;\n",
       "    }\n",
       "\n",
       "    .dataframe thead th {\n",
       "        text-align: right;\n",
       "    }\n",
       "</style>\n",
       "<table border=\"1\" class=\"dataframe\">\n",
       "  <thead>\n",
       "    <tr style=\"text-align: right;\">\n",
       "      <th></th>\n",
       "      <th>測項</th>\n",
       "    </tr>\n",
       "    <tr>\n",
       "      <th>日期</th>\n",
       "      <th></th>\n",
       "    </tr>\n",
       "  </thead>\n",
       "  <tbody>\n",
       "    <tr>\n",
       "      <th>2019/01/01 00:00:00</th>\n",
       "      <td>15</td>\n",
       "    </tr>\n",
       "    <tr>\n",
       "      <th>2019/01/02 00:00:00</th>\n",
       "      <td>15</td>\n",
       "    </tr>\n",
       "    <tr>\n",
       "      <th>2019/01/03 00:00:00</th>\n",
       "      <td>15</td>\n",
       "    </tr>\n",
       "    <tr>\n",
       "      <th>2019/01/04 00:00:00</th>\n",
       "      <td>15</td>\n",
       "    </tr>\n",
       "    <tr>\n",
       "      <th>2019/01/05 00:00:00</th>\n",
       "      <td>15</td>\n",
       "    </tr>\n",
       "    <tr>\n",
       "      <th>...</th>\n",
       "      <td>...</td>\n",
       "    </tr>\n",
       "    <tr>\n",
       "      <th>2019/12/27 00:00:00</th>\n",
       "      <td>15</td>\n",
       "    </tr>\n",
       "    <tr>\n",
       "      <th>2019/12/28 00:00:00</th>\n",
       "      <td>15</td>\n",
       "    </tr>\n",
       "    <tr>\n",
       "      <th>2019/12/29 00:00:00</th>\n",
       "      <td>15</td>\n",
       "    </tr>\n",
       "    <tr>\n",
       "      <th>2019/12/30 00:00:00</th>\n",
       "      <td>15</td>\n",
       "    </tr>\n",
       "    <tr>\n",
       "      <th>2019/12/31 00:00:00</th>\n",
       "      <td>15</td>\n",
       "    </tr>\n",
       "  </tbody>\n",
       "</table>\n",
       "<p>365 rows × 1 columns</p>\n",
       "</div>"
      ],
      "text/plain": [
       "                      測項\n",
       "日期                      \n",
       "2019/01/01 00:00:00   15\n",
       "2019/01/02 00:00:00   15\n",
       "2019/01/03 00:00:00   15\n",
       "2019/01/04 00:00:00   15\n",
       "2019/01/05 00:00:00   15\n",
       "...                   ..\n",
       "2019/12/27 00:00:00   15\n",
       "2019/12/28 00:00:00   15\n",
       "2019/12/29 00:00:00   15\n",
       "2019/12/30 00:00:00   15\n",
       "2019/12/31 00:00:00   15\n",
       "\n",
       "[365 rows x 1 columns]"
      ]
     },
     "metadata": {},
     "output_type": "display_data"
    },
    {
     "name": "stdout",
     "output_type": "stream",
     "text": [
      "監測記錄總天數:365天\n",
      "測項總項數:15項\n"
     ]
    }
   ],
   "source": [
    "import pandas as pd\n",
    "import numpy as np\n",
    "\n",
    "def data_clean(tdf):\n",
    "    new_col = dict(zip(tdf.columns, tdf.columns.str.strip(' '))) \n",
    "    tdf.rename(columns=new_col, inplace=True)\n",
    "\n",
    "    for col in df.columns:\n",
    "        tdf[col] = tdf[col].str.replace('NA','0')\n",
    "        if col == '測項':\n",
    "            tdf[col] = tdf[col].str.strip(' \\n')\n",
    "        if (col != '測站') and (col != '日期') and (col != '測項'):\n",
    "            tdf[col] = tdf[col].str.strip(' *#ANx')\n",
    "            tdf[col] = tdf[col].astype('float', copy=False, errors='ignore')\n",
    "    return tdf\n",
    "    \n",
    "df = pd.read_csv('湖口_2019.csv', encoding='big5')\n",
    "\n",
    "df = data_clean(df)\n",
    "\n",
    "gp = df[['測項']].groupby(by=df['日期'])\n",
    "display(gp.count())\n",
    "print('監測記錄總天數:{}天'.format(len(list(gp))))\n",
    "print('測項總項數:{}項'.format(gp.count().iloc[0,0]))"
   ]
  },
  {
   "cell_type": "markdown",
   "metadata": {},
   "source": [
    "## Mission 2\n",
    "<img style=\"float: left;\" src=\"mission2.png\" width=\"30%\"><br>\n",
    "<br>\n",
    "請將讀入資料集欄位\n",
    "(Column)轉換為下列型態：\n",
    "西元年(YYYY)、月(MM)、日(DD)、時(HH)、觀測站及各測項類別\n",
    "\n",
    "溫度:AMB_TEMP(℃),一氧化碳:CO(ppm),一氧化氮:NO(ppb),二氧化氮:NO2(ppb),氮氧化物:NOx(ppb),臭氧:O3(ppb)\n",
    "懸浮微粒:PM10(μg/m3),細懸浮微粒:PM2.5(μg/m3),降雨量:RAINFALL(mm/h),相對濕度:RH(percent),二氧化硫:SO2(ppb)\n",
    "小時風向值:WD_HR(degrees),風向：WIND_DIREC,風速:WIND_SPEED(m/sec),小時風速值:WS_HR(m/sec)"
   ]
  },
  {
   "cell_type": "code",
   "execution_count": null,
   "metadata": {},
   "outputs": [],
   "source": [
    "df1 = df.copy()\n",
    "hr_cols=[ '00','01','02','03','04','05','06','07','08','09',\n",
    "          '10','11','12','13','14','15','16','17','18','19',\n",
    "          '20','21','22','23']\n",
    "gp1 = df1.groupby('測項')\n",
    "df_transform = pd.DataFrame()\n",
    "for i in gp1:\n",
    "    station = i[0]\n",
    "    df_temp = i[1]\n",
    "    for j in range(len(df_temp)):\n",
    "        for hr in range(0,24):\n",
    "            idx = j*24+hr\n",
    "            if(df_transform.columns.shape[0]<df_temp.shape[0]):\n",
    "                df_transform.loc[idx,'西元年'] = df_temp.iloc[j,1][:10].split('/')[0]\n",
    "                df_transform.loc[idx,'月'] = df_temp.iloc[j,1][:10].split('/')[1]\n",
    "                df_transform.loc[idx,'日'] = df_temp.iloc[j,1][:10].split('/')[2]\n",
    "                df_transform.loc[idx,'時'] = hr_cols[hr]\n",
    "                df_transform.loc[idx,'觀測站'] = df_temp.iloc[j,0]\n",
    "            df_transform.loc[idx, station] = df_temp.iloc[j, 3+hr]\n",
    "    \n",
    "display(df_transform)"
   ]
  },
  {
   "cell_type": "markdown",
   "metadata": {},
   "source": [
    "## Mission 3\n",
    "<img style=\"float: left;\" src=\"mission3.png\" width=\"20%\"><br>\n",
    "<br>\n",
    "請參照空品網即時 空氣品質指標(AQI) 計算公式求取逐時 AQI 指數值\n",
    "並新設欄位Alert(0/1) \n",
    "<br>\n",
    "註明 紫爆(AQI>200) 以上 的記錄 (Alert==1)"
   ]
  },
  {
   "cell_type": "code",
   "execution_count": null,
   "metadata": {},
   "outputs": [],
   "source": [
    "def cal_aqi(value, item):\n",
    "    if(item == 'O3' and value > 300):\n",
    "        item = 'O3_8h'\n",
    "    for i in range(1,8):\n",
    "        low = aqi.loc[item,'low{}'.format(i)]\n",
    "        high = aqi.loc[item,'high{}'.format(i)]\n",
    "        if (value>=low and value<=high):\n",
    "            break\n",
    "    aqi_h = aqi.loc['AQI','high{}'.format(i)]\n",
    "    aqi_l = aqi.loc['AQI','low{}'.format(i)]\n",
    "    ret_aqi=(((aqi_h-aqi_l) / (high-low)) *(value-low))+aqi_l\n",
    "    return ret_aqi\n",
    "    \n",
    "aqi = pd.read_csv('aqi.csv')\n",
    "aqi.set_index('item', inplace=True)\n",
    "df2 = df_transform.copy()\n",
    "df2.drop(['AMB_TEMP','NO','NOx','RAINFALL','RH','WD_HR','WIND_DIREC','WIND_SPEED','WS_HR'], axis=1, inplace=True)\n",
    "df2['O3_8h'] = df2['O3'].rolling(8).mean()\n",
    "for i in range(df2.shape[0]):\n",
    "    aqi_list=[]\n",
    "    for j in range(5,12):\n",
    "        item = df2.columns[j]\n",
    "        aqi_j = cal_aqi(df2.loc[i,item], item)\n",
    "        aqi_list.append(aqi_j)\n",
    "    df2.loc[i,'AQI'] = round(max(aqi_list),2)\n",
    "\n",
    "df2['Alert']=df2['AQI'].apply(lambda x: 1 if x > 200 else 0)\n",
    "\n",
    "display(df2)\n",
    "df3 = df2[df2['Alert']==1]\n",
    "print('有{}天發生紫爆'.format(df3.shape[0]))\n",
    "display(df3)"
   ]
  },
  {
   "cell_type": "code",
   "execution_count": null,
   "metadata": {},
   "outputs": [],
   "source": [
    "df2['O3_8h'] = round(df2['O3_8h'],2)\n",
    "df2.to_csv('hukou_aqi_2019.csv')"
   ]
  },
  {
   "cell_type": "code",
   "execution_count": null,
   "metadata": {},
   "outputs": [],
   "source": []
  }
 ],
 "metadata": {
  "kernelspec": {
   "display_name": "Python 3",
   "language": "python",
   "name": "python3"
  },
  "language_info": {
   "codemirror_mode": {
    "name": "ipython",
    "version": 3
   },
   "file_extension": ".py",
   "mimetype": "text/x-python",
   "name": "python",
   "nbconvert_exporter": "python",
   "pygments_lexer": "ipython3",
   "version": "3.6.11"
  }
 },
 "nbformat": 4,
 "nbformat_minor": 4
}
